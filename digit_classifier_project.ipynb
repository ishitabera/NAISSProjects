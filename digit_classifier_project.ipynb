{
  "nbformat": 4,
  "nbformat_minor": 0,
  "metadata": {
    "colab": {
      "provenance": [],
      "authorship_tag": "ABX9TyOyt3Lgfk5nexRFIDHwxb9P",
      "include_colab_link": true
    },
    "kernelspec": {
      "name": "python3",
      "display_name": "Python 3"
    },
    "language_info": {
      "name": "python"
    }
  },
  "cells": [
    {
      "cell_type": "markdown",
      "metadata": {
        "id": "view-in-github",
        "colab_type": "text"
      },
      "source": [
        "<a href=\"https://colab.research.google.com/github/ishitabera/NAISSProjects/blob/main/digit_classifier_project.ipynb\" target=\"_parent\"><img src=\"https://colab.research.google.com/assets/colab-badge.svg\" alt=\"Open In Colab\"/></a>"
      ]
    },
    {
      "cell_type": "code",
      "execution_count": null,
      "metadata": {
        "id": "qA7_9hsx-Pc-"
      },
      "outputs": [],
      "source": [
        "from torchvision import datasets\n",
        "from torchvision.transforms import ToTensor"
      ]
    },
    {
      "cell_type": "code",
      "source": [
        "train_data = datasets.MNIST(\n",
        "    root = 'data',\n",
        "    train = True,\n",
        "    transform = ToTensor(),\n",
        "    download = True\n",
        ")\n",
        "\n",
        "test_data = datasets.MNIST(\n",
        "    root = 'data',\n",
        "    train = False,\n",
        "    transform = ToTensor(),\n",
        "    download = True\n",
        ")"
      ],
      "metadata": {
        "colab": {
          "base_uri": "https://localhost:8080/"
        },
        "id": "yaNsTu_i-95m",
        "outputId": "81f8baee-1b19-4ba0-f434-5bd3bb31ad8d"
      },
      "execution_count": null,
      "outputs": [
        {
          "output_type": "stream",
          "name": "stdout",
          "text": [
            "Downloading http://yann.lecun.com/exdb/mnist/train-images-idx3-ubyte.gz\n",
            "Failed to download (trying next):\n",
            "<urlopen error [SSL: CERTIFICATE_VERIFY_FAILED] certificate verify failed: certificate has expired (_ssl.c:1007)>\n",
            "\n",
            "Downloading https://ossci-datasets.s3.amazonaws.com/mnist/train-images-idx3-ubyte.gz\n",
            "Downloading https://ossci-datasets.s3.amazonaws.com/mnist/train-images-idx3-ubyte.gz to data/MNIST/raw/train-images-idx3-ubyte.gz\n"
          ]
        },
        {
          "output_type": "stream",
          "name": "stderr",
          "text": [
            "100%|██████████| 9912422/9912422 [00:00<00:00, 51815810.87it/s]\n"
          ]
        },
        {
          "output_type": "stream",
          "name": "stdout",
          "text": [
            "Extracting data/MNIST/raw/train-images-idx3-ubyte.gz to data/MNIST/raw\n",
            "\n",
            "Downloading http://yann.lecun.com/exdb/mnist/train-labels-idx1-ubyte.gz\n",
            "Failed to download (trying next):\n",
            "<urlopen error [SSL: CERTIFICATE_VERIFY_FAILED] certificate verify failed: certificate has expired (_ssl.c:1007)>\n",
            "\n",
            "Downloading https://ossci-datasets.s3.amazonaws.com/mnist/train-labels-idx1-ubyte.gz\n",
            "Downloading https://ossci-datasets.s3.amazonaws.com/mnist/train-labels-idx1-ubyte.gz to data/MNIST/raw/train-labels-idx1-ubyte.gz\n"
          ]
        },
        {
          "output_type": "stream",
          "name": "stderr",
          "text": [
            "100%|██████████| 28881/28881 [00:00<00:00, 1726194.43it/s]\n"
          ]
        },
        {
          "output_type": "stream",
          "name": "stdout",
          "text": [
            "Extracting data/MNIST/raw/train-labels-idx1-ubyte.gz to data/MNIST/raw\n",
            "\n",
            "Downloading http://yann.lecun.com/exdb/mnist/t10k-images-idx3-ubyte.gz\n",
            "Failed to download (trying next):\n",
            "<urlopen error [SSL: CERTIFICATE_VERIFY_FAILED] certificate verify failed: certificate has expired (_ssl.c:1007)>\n",
            "\n",
            "Downloading https://ossci-datasets.s3.amazonaws.com/mnist/t10k-images-idx3-ubyte.gz\n",
            "Downloading https://ossci-datasets.s3.amazonaws.com/mnist/t10k-images-idx3-ubyte.gz to data/MNIST/raw/t10k-images-idx3-ubyte.gz\n"
          ]
        },
        {
          "output_type": "stream",
          "name": "stderr",
          "text": [
            "100%|██████████| 1648877/1648877 [00:00<00:00, 14505170.84it/s]\n"
          ]
        },
        {
          "output_type": "stream",
          "name": "stdout",
          "text": [
            "Extracting data/MNIST/raw/t10k-images-idx3-ubyte.gz to data/MNIST/raw\n",
            "\n",
            "Downloading http://yann.lecun.com/exdb/mnist/t10k-labels-idx1-ubyte.gz\n",
            "Failed to download (trying next):\n",
            "<urlopen error [SSL: CERTIFICATE_VERIFY_FAILED] certificate verify failed: certificate has expired (_ssl.c:1007)>\n",
            "\n",
            "Downloading https://ossci-datasets.s3.amazonaws.com/mnist/t10k-labels-idx1-ubyte.gz\n",
            "Downloading https://ossci-datasets.s3.amazonaws.com/mnist/t10k-labels-idx1-ubyte.gz to data/MNIST/raw/t10k-labels-idx1-ubyte.gz\n"
          ]
        },
        {
          "output_type": "stream",
          "name": "stderr",
          "text": [
            "100%|██████████| 4542/4542 [00:00<00:00, 3001501.30it/s]"
          ]
        },
        {
          "output_type": "stream",
          "name": "stdout",
          "text": [
            "Extracting data/MNIST/raw/t10k-labels-idx1-ubyte.gz to data/MNIST/raw\n",
            "\n"
          ]
        },
        {
          "output_type": "stream",
          "name": "stderr",
          "text": [
            "\n"
          ]
        }
      ]
    },
    {
      "cell_type": "code",
      "source": [
        "train_data"
      ],
      "metadata": {
        "colab": {
          "base_uri": "https://localhost:8080/"
        },
        "id": "6QUDFAqf_QdW",
        "outputId": "6af6cbad-5bf9-4110-b3a8-3127aa1cfbc7"
      },
      "execution_count": null,
      "outputs": [
        {
          "output_type": "execute_result",
          "data": {
            "text/plain": [
              "Dataset MNIST\n",
              "    Number of datapoints: 60000\n",
              "    Root location: data\n",
              "    Split: Train\n",
              "    StandardTransform\n",
              "Transform: ToTensor()"
            ]
          },
          "metadata": {},
          "execution_count": 4
        }
      ]
    },
    {
      "cell_type": "code",
      "source": [
        "test_data"
      ],
      "metadata": {
        "colab": {
          "base_uri": "https://localhost:8080/"
        },
        "id": "XTkDS8L7_WF6",
        "outputId": "86f8fdf1-0849-475d-a579-40be99736733"
      },
      "execution_count": null,
      "outputs": [
        {
          "output_type": "execute_result",
          "data": {
            "text/plain": [
              "Dataset MNIST\n",
              "    Number of datapoints: 10000\n",
              "    Root location: data\n",
              "    Split: Test\n",
              "    StandardTransform\n",
              "Transform: ToTensor()"
            ]
          },
          "metadata": {},
          "execution_count": 5
        }
      ]
    },
    {
      "cell_type": "code",
      "source": [
        "from torch.utils.data import DataLoader\n",
        "\n",
        "loaders = {\n",
        "\n",
        "           'train' : DataLoader(train_data,\n",
        "                                 batch_size=100,\n",
        "                                 shuffle=True,\n",
        "                                 num_workers=1),\n",
        "\n",
        "           'test'  : DataLoader(test_data,\n",
        "                                 batch_size=100,\n",
        "                                 shuffle=True,\n",
        "                                 num_workers=1),\n",
        "}"
      ],
      "metadata": {
        "id": "qKaTkeTN_sMV"
      },
      "execution_count": null,
      "outputs": []
    },
    {
      "cell_type": "code",
      "source": [
        "loaders"
      ],
      "metadata": {
        "colab": {
          "base_uri": "https://localhost:8080/"
        },
        "id": "Mgi9_8MfAsrj",
        "outputId": "20f58449-64e6-4ae9-e4a3-7ac7393ef7ea"
      },
      "execution_count": null,
      "outputs": [
        {
          "output_type": "execute_result",
          "data": {
            "text/plain": [
              "{'train': <torch.utils.data.dataloader.DataLoader at 0x7a81762c3670>,\n",
              " 'test': <torch.utils.data.dataloader.DataLoader at 0x7a81762c2530>}"
            ]
          },
          "metadata": {},
          "execution_count": 8
        }
      ]
    },
    {
      "cell_type": "code",
      "source": [
        "import torch.nn as nn\n",
        "import torch.nn.functional as F\n",
        "import torch.optim as optim\n",
        "\n",
        "class CNN(nn.Module):\n",
        "  def __init__(self):\n",
        "    super().__init__()\n",
        "\n",
        "    self.conv1 = nn.Conv2d(1, 10, kernel_size=5)\n",
        "    self.conv2 = nn.Conv2d(10, 20, kernel_size=5)\n",
        "    self.conv2_drop = nn.Dropout2d()\n",
        "    self.fc1 = nn.Linear(320, 50)\n",
        "    self.fc2 = nn.Linear(50, 10)\n",
        "\n",
        "  def forward(self, x):\n",
        "    x = F.relu(F.max_pool2d(self.conv1(x), 2))\n",
        "    x = F.relu(F.max_pool2d(self.conv2_drop(self.conv2(x)), 2))\n",
        "    x = x.view(-1, 320)\n",
        "    x = F.relu(self.fc1(x))\n",
        "    x = F.dropout(x, training=self.training)\n",
        "    x = self.fc2(x)\n",
        "\n",
        "    return F.log_softmax(x)"
      ],
      "metadata": {
        "id": "lW24WpJ7AyBy"
      },
      "execution_count": null,
      "outputs": []
    },
    {
      "cell_type": "code",
      "source": [
        "import torch\n",
        "device = torch.device(\"cuda\" if torch.cuda.is_available() else \"cpu\")\n",
        "model = CNN().to(device)\n",
        "optimizer = optim.Adam(model.parameters(), lr=0.001)\n",
        "loss_fn = nn.CrossEntropyLoss()\n",
        "\n",
        "def train(epoch):\n",
        "    model.train()\n",
        "    for batch_idx, (data, target) in enumerate(loaders['train']):\n",
        "        data, target = data.to(device), target.to(device)\n",
        "        optimizer.zero_grad()\n",
        "        output = model(data)\n",
        "        loss = loss_fn(output, target)\n",
        "        loss.backward()\n",
        "        optimizer.step()\n",
        "        if batch_idx % 20 == 0:\n",
        "            print(f'Train Epoch: {epoch} [{batch_idx * len(data)}/{len(loaders[\"train\"].dataset)} ({100. * batch_idx / len(loaders[\"train\"]):.0f}%)]\\tLoss: {loss.item():.6f}')\n",
        "\n",
        "def test():\n",
        "    model.eval()\n",
        "\n",
        "    test_loss = 0\n",
        "    correct = 0\n",
        "\n",
        "    with torch.no_grad():\n",
        "        for data, target in loaders['test']:\n",
        "            data, target = data.to(device), target.to(device)\n",
        "            output = model(data)\n",
        "            test_loss += loss_fn(output, target).item()\n",
        "            pred = output.argmax(dim=1, keepdim=True)\n",
        "            correct += pred.eq(target.view_as(pred)).sum().item()\n",
        "        test_loss /= len(loaders['test'].dataset)\n",
        "        print(f'\\nTest set: Average loss: {test_loss:.4f}, Accuracy: {correct}/{len(loaders[\"test\"].dataset)} ({100. * correct / len(loaders[\"test\"].dataset):.0f}%)\\n')"
      ],
      "metadata": {
        "id": "sDMluslcBaLq"
      },
      "execution_count": null,
      "outputs": []
    },
    {
      "cell_type": "code",
      "source": [
        "for epoch in range(1, 11):\n",
        "    train(epoch)\n",
        "    test()"
      ],
      "metadata": {
        "colab": {
          "base_uri": "https://localhost:8080/"
        },
        "id": "c-sDu6LQDsMk",
        "outputId": "9ccf3682-5b7e-45c5-cc79-6ed16b6b3a89"
      },
      "execution_count": null,
      "outputs": [
        {
          "output_type": "stream",
          "name": "stderr",
          "text": [
            "<ipython-input-15-e2d67740874a>:23: UserWarning: Implicit dimension choice for log_softmax has been deprecated. Change the call to include dim=X as an argument.\n",
            "  return F.log_softmax(x)\n"
          ]
        },
        {
          "output_type": "stream",
          "name": "stdout",
          "text": [
            "Train Epoch: 1 [0/60000 (0%)]\tLoss: 2.283668\n",
            "Train Epoch: 1 [2000/60000 (3%)]\tLoss: 2.214358\n",
            "Train Epoch: 1 [4000/60000 (7%)]\tLoss: 1.777408\n",
            "Train Epoch: 1 [6000/60000 (10%)]\tLoss: 1.277416\n",
            "Train Epoch: 1 [8000/60000 (13%)]\tLoss: 1.079154\n",
            "Train Epoch: 1 [10000/60000 (17%)]\tLoss: 0.985745\n",
            "Train Epoch: 1 [12000/60000 (20%)]\tLoss: 0.796443\n",
            "Train Epoch: 1 [14000/60000 (23%)]\tLoss: 0.981511\n",
            "Train Epoch: 1 [16000/60000 (27%)]\tLoss: 0.543908\n",
            "Train Epoch: 1 [18000/60000 (30%)]\tLoss: 0.641005\n",
            "Train Epoch: 1 [20000/60000 (33%)]\tLoss: 0.783575\n",
            "Train Epoch: 1 [22000/60000 (37%)]\tLoss: 0.600771\n",
            "Train Epoch: 1 [24000/60000 (40%)]\tLoss: 0.494014\n",
            "Train Epoch: 1 [26000/60000 (43%)]\tLoss: 0.555745\n",
            "Train Epoch: 1 [28000/60000 (47%)]\tLoss: 0.533935\n",
            "Train Epoch: 1 [30000/60000 (50%)]\tLoss: 0.347515\n",
            "Train Epoch: 1 [32000/60000 (53%)]\tLoss: 0.715957\n",
            "Train Epoch: 1 [34000/60000 (57%)]\tLoss: 0.333420\n",
            "Train Epoch: 1 [36000/60000 (60%)]\tLoss: 0.454781\n",
            "Train Epoch: 1 [38000/60000 (63%)]\tLoss: 0.437147\n",
            "Train Epoch: 1 [40000/60000 (67%)]\tLoss: 0.384422\n",
            "Train Epoch: 1 [42000/60000 (70%)]\tLoss: 0.405667\n",
            "Train Epoch: 1 [44000/60000 (73%)]\tLoss: 0.327523\n",
            "Train Epoch: 1 [46000/60000 (77%)]\tLoss: 0.438036\n",
            "Train Epoch: 1 [48000/60000 (80%)]\tLoss: 0.317920\n",
            "Train Epoch: 1 [50000/60000 (83%)]\tLoss: 0.363531\n",
            "Train Epoch: 1 [52000/60000 (87%)]\tLoss: 0.337467\n",
            "Train Epoch: 1 [54000/60000 (90%)]\tLoss: 0.352098\n",
            "Train Epoch: 1 [56000/60000 (93%)]\tLoss: 0.334414\n",
            "Train Epoch: 1 [58000/60000 (97%)]\tLoss: 0.569832\n",
            "\n",
            "Test set: Average loss: 0.0015, Accuracy: 9554/10000 (96%)\n",
            "\n",
            "Train Epoch: 2 [0/60000 (0%)]\tLoss: 0.485317\n",
            "Train Epoch: 2 [2000/60000 (3%)]\tLoss: 0.450825\n",
            "Train Epoch: 2 [4000/60000 (7%)]\tLoss: 0.467644\n",
            "Train Epoch: 2 [6000/60000 (10%)]\tLoss: 0.245063\n",
            "Train Epoch: 2 [8000/60000 (13%)]\tLoss: 0.384039\n",
            "Train Epoch: 2 [10000/60000 (17%)]\tLoss: 0.623685\n",
            "Train Epoch: 2 [12000/60000 (20%)]\tLoss: 0.439203\n",
            "Train Epoch: 2 [14000/60000 (23%)]\tLoss: 0.255186\n",
            "Train Epoch: 2 [16000/60000 (27%)]\tLoss: 0.291322\n",
            "Train Epoch: 2 [18000/60000 (30%)]\tLoss: 0.313699\n",
            "Train Epoch: 2 [20000/60000 (33%)]\tLoss: 0.258075\n",
            "Train Epoch: 2 [22000/60000 (37%)]\tLoss: 0.190156\n",
            "Train Epoch: 2 [24000/60000 (40%)]\tLoss: 0.377150\n",
            "Train Epoch: 2 [26000/60000 (43%)]\tLoss: 0.336380\n",
            "Train Epoch: 2 [28000/60000 (47%)]\tLoss: 0.245196\n",
            "Train Epoch: 2 [30000/60000 (50%)]\tLoss: 0.239030\n",
            "Train Epoch: 2 [32000/60000 (53%)]\tLoss: 0.315108\n",
            "Train Epoch: 2 [34000/60000 (57%)]\tLoss: 0.377201\n",
            "Train Epoch: 2 [36000/60000 (60%)]\tLoss: 0.245309\n",
            "Train Epoch: 2 [38000/60000 (63%)]\tLoss: 0.414144\n",
            "Train Epoch: 2 [40000/60000 (67%)]\tLoss: 0.211917\n",
            "Train Epoch: 2 [42000/60000 (70%)]\tLoss: 0.335891\n",
            "Train Epoch: 2 [44000/60000 (73%)]\tLoss: 0.212129\n",
            "Train Epoch: 2 [46000/60000 (77%)]\tLoss: 0.295758\n",
            "Train Epoch: 2 [48000/60000 (80%)]\tLoss: 0.302688\n",
            "Train Epoch: 2 [50000/60000 (83%)]\tLoss: 0.283113\n",
            "Train Epoch: 2 [52000/60000 (87%)]\tLoss: 0.318127\n",
            "Train Epoch: 2 [54000/60000 (90%)]\tLoss: 0.281793\n",
            "Train Epoch: 2 [56000/60000 (93%)]\tLoss: 0.344152\n",
            "Train Epoch: 2 [58000/60000 (97%)]\tLoss: 0.252583\n",
            "\n",
            "Test set: Average loss: 0.0010, Accuracy: 9686/10000 (97%)\n",
            "\n",
            "Train Epoch: 3 [0/60000 (0%)]\tLoss: 0.427682\n",
            "Train Epoch: 3 [2000/60000 (3%)]\tLoss: 0.317196\n",
            "Train Epoch: 3 [4000/60000 (7%)]\tLoss: 0.289895\n",
            "Train Epoch: 3 [6000/60000 (10%)]\tLoss: 0.202954\n",
            "Train Epoch: 3 [8000/60000 (13%)]\tLoss: 0.197469\n",
            "Train Epoch: 3 [10000/60000 (17%)]\tLoss: 0.430343\n",
            "Train Epoch: 3 [12000/60000 (20%)]\tLoss: 0.252473\n",
            "Train Epoch: 3 [14000/60000 (23%)]\tLoss: 0.358936\n",
            "Train Epoch: 3 [16000/60000 (27%)]\tLoss: 0.456767\n",
            "Train Epoch: 3 [18000/60000 (30%)]\tLoss: 0.493979\n",
            "Train Epoch: 3 [20000/60000 (33%)]\tLoss: 0.342645\n",
            "Train Epoch: 3 [22000/60000 (37%)]\tLoss: 0.253569\n",
            "Train Epoch: 3 [24000/60000 (40%)]\tLoss: 0.379884\n",
            "Train Epoch: 3 [26000/60000 (43%)]\tLoss: 0.527909\n",
            "Train Epoch: 3 [28000/60000 (47%)]\tLoss: 0.301187\n",
            "Train Epoch: 3 [30000/60000 (50%)]\tLoss: 0.308815\n",
            "Train Epoch: 3 [32000/60000 (53%)]\tLoss: 0.177961\n",
            "Train Epoch: 3 [34000/60000 (57%)]\tLoss: 0.321962\n",
            "Train Epoch: 3 [36000/60000 (60%)]\tLoss: 0.320153\n",
            "Train Epoch: 3 [38000/60000 (63%)]\tLoss: 0.242642\n",
            "Train Epoch: 3 [40000/60000 (67%)]\tLoss: 0.263652\n",
            "Train Epoch: 3 [42000/60000 (70%)]\tLoss: 0.248589\n",
            "Train Epoch: 3 [44000/60000 (73%)]\tLoss: 0.285804\n",
            "Train Epoch: 3 [46000/60000 (77%)]\tLoss: 0.265979\n",
            "Train Epoch: 3 [48000/60000 (80%)]\tLoss: 0.251953\n",
            "Train Epoch: 3 [50000/60000 (83%)]\tLoss: 0.208287\n",
            "Train Epoch: 3 [52000/60000 (87%)]\tLoss: 0.203811\n",
            "Train Epoch: 3 [54000/60000 (90%)]\tLoss: 0.302721\n",
            "Train Epoch: 3 [56000/60000 (93%)]\tLoss: 0.233062\n",
            "Train Epoch: 3 [58000/60000 (97%)]\tLoss: 0.176314\n",
            "\n",
            "Test set: Average loss: 0.0008, Accuracy: 9740/10000 (97%)\n",
            "\n",
            "Train Epoch: 4 [0/60000 (0%)]\tLoss: 0.204209\n",
            "Train Epoch: 4 [2000/60000 (3%)]\tLoss: 0.329947\n",
            "Train Epoch: 4 [4000/60000 (7%)]\tLoss: 0.141259\n",
            "Train Epoch: 4 [6000/60000 (10%)]\tLoss: 0.209127\n",
            "Train Epoch: 4 [8000/60000 (13%)]\tLoss: 0.303206\n",
            "Train Epoch: 4 [10000/60000 (17%)]\tLoss: 0.182039\n",
            "Train Epoch: 4 [12000/60000 (20%)]\tLoss: 0.217946\n",
            "Train Epoch: 4 [14000/60000 (23%)]\tLoss: 0.348912\n",
            "Train Epoch: 4 [16000/60000 (27%)]\tLoss: 0.297686\n",
            "Train Epoch: 4 [18000/60000 (30%)]\tLoss: 0.133124\n",
            "Train Epoch: 4 [20000/60000 (33%)]\tLoss: 0.280270\n",
            "Train Epoch: 4 [22000/60000 (37%)]\tLoss: 0.347967\n",
            "Train Epoch: 4 [24000/60000 (40%)]\tLoss: 0.176672\n",
            "Train Epoch: 4 [26000/60000 (43%)]\tLoss: 0.156313\n",
            "Train Epoch: 4 [28000/60000 (47%)]\tLoss: 0.268854\n",
            "Train Epoch: 4 [30000/60000 (50%)]\tLoss: 0.204786\n",
            "Train Epoch: 4 [32000/60000 (53%)]\tLoss: 0.403506\n",
            "Train Epoch: 4 [34000/60000 (57%)]\tLoss: 0.312076\n",
            "Train Epoch: 4 [36000/60000 (60%)]\tLoss: 0.113598\n",
            "Train Epoch: 4 [38000/60000 (63%)]\tLoss: 0.246084\n",
            "Train Epoch: 4 [40000/60000 (67%)]\tLoss: 0.149036\n",
            "Train Epoch: 4 [42000/60000 (70%)]\tLoss: 0.144019\n",
            "Train Epoch: 4 [44000/60000 (73%)]\tLoss: 0.100971\n",
            "Train Epoch: 4 [46000/60000 (77%)]\tLoss: 0.141243\n",
            "Train Epoch: 4 [48000/60000 (80%)]\tLoss: 0.131085\n",
            "Train Epoch: 4 [50000/60000 (83%)]\tLoss: 0.211045\n",
            "Train Epoch: 4 [52000/60000 (87%)]\tLoss: 0.112041\n",
            "Train Epoch: 4 [54000/60000 (90%)]\tLoss: 0.262039\n",
            "Train Epoch: 4 [56000/60000 (93%)]\tLoss: 0.198469\n",
            "Train Epoch: 4 [58000/60000 (97%)]\tLoss: 0.246205\n",
            "\n",
            "Test set: Average loss: 0.0007, Accuracy: 9779/10000 (98%)\n",
            "\n",
            "Train Epoch: 5 [0/60000 (0%)]\tLoss: 0.141214\n",
            "Train Epoch: 5 [2000/60000 (3%)]\tLoss: 0.262264\n",
            "Train Epoch: 5 [4000/60000 (7%)]\tLoss: 0.247177\n",
            "Train Epoch: 5 [6000/60000 (10%)]\tLoss: 0.160748\n",
            "Train Epoch: 5 [8000/60000 (13%)]\tLoss: 0.138139\n",
            "Train Epoch: 5 [10000/60000 (17%)]\tLoss: 0.210743\n",
            "Train Epoch: 5 [12000/60000 (20%)]\tLoss: 0.523746\n",
            "Train Epoch: 5 [14000/60000 (23%)]\tLoss: 0.178932\n",
            "Train Epoch: 5 [16000/60000 (27%)]\tLoss: 0.128138\n",
            "Train Epoch: 5 [18000/60000 (30%)]\tLoss: 0.184224\n",
            "Train Epoch: 5 [20000/60000 (33%)]\tLoss: 0.233309\n",
            "Train Epoch: 5 [22000/60000 (37%)]\tLoss: 0.262487\n",
            "Train Epoch: 5 [24000/60000 (40%)]\tLoss: 0.196704\n",
            "Train Epoch: 5 [26000/60000 (43%)]\tLoss: 0.287488\n",
            "Train Epoch: 5 [28000/60000 (47%)]\tLoss: 0.202570\n",
            "Train Epoch: 5 [30000/60000 (50%)]\tLoss: 0.184804\n",
            "Train Epoch: 5 [32000/60000 (53%)]\tLoss: 0.101435\n",
            "Train Epoch: 5 [34000/60000 (57%)]\tLoss: 0.060365\n",
            "Train Epoch: 5 [36000/60000 (60%)]\tLoss: 0.222649\n",
            "Train Epoch: 5 [38000/60000 (63%)]\tLoss: 0.178930\n",
            "Train Epoch: 5 [40000/60000 (67%)]\tLoss: 0.194446\n",
            "Train Epoch: 5 [42000/60000 (70%)]\tLoss: 0.130897\n",
            "Train Epoch: 5 [44000/60000 (73%)]\tLoss: 0.198949\n",
            "Train Epoch: 5 [46000/60000 (77%)]\tLoss: 0.144125\n",
            "Train Epoch: 5 [48000/60000 (80%)]\tLoss: 0.181280\n",
            "Train Epoch: 5 [50000/60000 (83%)]\tLoss: 0.134878\n",
            "Train Epoch: 5 [52000/60000 (87%)]\tLoss: 0.248591\n",
            "Train Epoch: 5 [54000/60000 (90%)]\tLoss: 0.224718\n",
            "Train Epoch: 5 [56000/60000 (93%)]\tLoss: 0.211080\n",
            "Train Epoch: 5 [58000/60000 (97%)]\tLoss: 0.142725\n",
            "\n",
            "Test set: Average loss: 0.0006, Accuracy: 9788/10000 (98%)\n",
            "\n",
            "Train Epoch: 6 [0/60000 (0%)]\tLoss: 0.168722\n",
            "Train Epoch: 6 [2000/60000 (3%)]\tLoss: 0.192500\n",
            "Train Epoch: 6 [4000/60000 (7%)]\tLoss: 0.173025\n",
            "Train Epoch: 6 [6000/60000 (10%)]\tLoss: 0.175643\n",
            "Train Epoch: 6 [8000/60000 (13%)]\tLoss: 0.073690\n",
            "Train Epoch: 6 [10000/60000 (17%)]\tLoss: 0.122066\n",
            "Train Epoch: 6 [12000/60000 (20%)]\tLoss: 0.196790\n",
            "Train Epoch: 6 [14000/60000 (23%)]\tLoss: 0.158318\n",
            "Train Epoch: 6 [16000/60000 (27%)]\tLoss: 0.072133\n",
            "Train Epoch: 6 [18000/60000 (30%)]\tLoss: 0.191704\n",
            "Train Epoch: 6 [20000/60000 (33%)]\tLoss: 0.259400\n",
            "Train Epoch: 6 [22000/60000 (37%)]\tLoss: 0.151769\n",
            "Train Epoch: 6 [24000/60000 (40%)]\tLoss: 0.181671\n",
            "Train Epoch: 6 [26000/60000 (43%)]\tLoss: 0.122985\n",
            "Train Epoch: 6 [28000/60000 (47%)]\tLoss: 0.210432\n",
            "Train Epoch: 6 [30000/60000 (50%)]\tLoss: 0.223577\n",
            "Train Epoch: 6 [32000/60000 (53%)]\tLoss: 0.089580\n",
            "Train Epoch: 6 [34000/60000 (57%)]\tLoss: 0.178160\n",
            "Train Epoch: 6 [36000/60000 (60%)]\tLoss: 0.108850\n",
            "Train Epoch: 6 [38000/60000 (63%)]\tLoss: 0.148447\n",
            "Train Epoch: 6 [40000/60000 (67%)]\tLoss: 0.184292\n",
            "Train Epoch: 6 [42000/60000 (70%)]\tLoss: 0.164166\n",
            "Train Epoch: 6 [44000/60000 (73%)]\tLoss: 0.349492\n",
            "Train Epoch: 6 [46000/60000 (77%)]\tLoss: 0.129444\n",
            "Train Epoch: 6 [48000/60000 (80%)]\tLoss: 0.108434\n",
            "Train Epoch: 6 [50000/60000 (83%)]\tLoss: 0.266272\n",
            "Train Epoch: 6 [52000/60000 (87%)]\tLoss: 0.208482\n",
            "Train Epoch: 6 [54000/60000 (90%)]\tLoss: 0.137912\n",
            "Train Epoch: 6 [56000/60000 (93%)]\tLoss: 0.174049\n",
            "Train Epoch: 6 [58000/60000 (97%)]\tLoss: 0.086749\n",
            "\n",
            "Test set: Average loss: 0.0006, Accuracy: 9800/10000 (98%)\n",
            "\n",
            "Train Epoch: 7 [0/60000 (0%)]\tLoss: 0.190497\n",
            "Train Epoch: 7 [2000/60000 (3%)]\tLoss: 0.151486\n",
            "Train Epoch: 7 [4000/60000 (7%)]\tLoss: 0.261460\n",
            "Train Epoch: 7 [6000/60000 (10%)]\tLoss: 0.208325\n",
            "Train Epoch: 7 [8000/60000 (13%)]\tLoss: 0.090136\n",
            "Train Epoch: 7 [10000/60000 (17%)]\tLoss: 0.192776\n",
            "Train Epoch: 7 [12000/60000 (20%)]\tLoss: 0.195592\n",
            "Train Epoch: 7 [14000/60000 (23%)]\tLoss: 0.118780\n",
            "Train Epoch: 7 [16000/60000 (27%)]\tLoss: 0.227437\n",
            "Train Epoch: 7 [18000/60000 (30%)]\tLoss: 0.228186\n",
            "Train Epoch: 7 [20000/60000 (33%)]\tLoss: 0.089455\n",
            "Train Epoch: 7 [22000/60000 (37%)]\tLoss: 0.170768\n",
            "Train Epoch: 7 [24000/60000 (40%)]\tLoss: 0.074519\n",
            "Train Epoch: 7 [26000/60000 (43%)]\tLoss: 0.204898\n",
            "Train Epoch: 7 [28000/60000 (47%)]\tLoss: 0.293984\n",
            "Train Epoch: 7 [30000/60000 (50%)]\tLoss: 0.173587\n",
            "Train Epoch: 7 [32000/60000 (53%)]\tLoss: 0.187427\n",
            "Train Epoch: 7 [34000/60000 (57%)]\tLoss: 0.110609\n",
            "Train Epoch: 7 [36000/60000 (60%)]\tLoss: 0.145825\n",
            "Train Epoch: 7 [38000/60000 (63%)]\tLoss: 0.150195\n",
            "Train Epoch: 7 [40000/60000 (67%)]\tLoss: 0.394446\n",
            "Train Epoch: 7 [42000/60000 (70%)]\tLoss: 0.143451\n",
            "Train Epoch: 7 [44000/60000 (73%)]\tLoss: 0.144475\n",
            "Train Epoch: 7 [46000/60000 (77%)]\tLoss: 0.111742\n",
            "Train Epoch: 7 [48000/60000 (80%)]\tLoss: 0.104154\n",
            "Train Epoch: 7 [50000/60000 (83%)]\tLoss: 0.161386\n",
            "Train Epoch: 7 [52000/60000 (87%)]\tLoss: 0.228126\n",
            "Train Epoch: 7 [54000/60000 (90%)]\tLoss: 0.091711\n",
            "Train Epoch: 7 [56000/60000 (93%)]\tLoss: 0.301700\n",
            "Train Epoch: 7 [58000/60000 (97%)]\tLoss: 0.224423\n",
            "\n",
            "Test set: Average loss: 0.0006, Accuracy: 9821/10000 (98%)\n",
            "\n",
            "Train Epoch: 8 [0/60000 (0%)]\tLoss: 0.177733\n",
            "Train Epoch: 8 [2000/60000 (3%)]\tLoss: 0.176236\n",
            "Train Epoch: 8 [4000/60000 (7%)]\tLoss: 0.181040\n",
            "Train Epoch: 8 [6000/60000 (10%)]\tLoss: 0.064583\n",
            "Train Epoch: 8 [8000/60000 (13%)]\tLoss: 0.107593\n",
            "Train Epoch: 8 [10000/60000 (17%)]\tLoss: 0.154104\n",
            "Train Epoch: 8 [12000/60000 (20%)]\tLoss: 0.463055\n",
            "Train Epoch: 8 [14000/60000 (23%)]\tLoss: 0.115261\n",
            "Train Epoch: 8 [16000/60000 (27%)]\tLoss: 0.201396\n",
            "Train Epoch: 8 [18000/60000 (30%)]\tLoss: 0.175713\n",
            "Train Epoch: 8 [20000/60000 (33%)]\tLoss: 0.101338\n",
            "Train Epoch: 8 [22000/60000 (37%)]\tLoss: 0.143854\n",
            "Train Epoch: 8 [24000/60000 (40%)]\tLoss: 0.167040\n",
            "Train Epoch: 8 [26000/60000 (43%)]\tLoss: 0.137693\n",
            "Train Epoch: 8 [28000/60000 (47%)]\tLoss: 0.105989\n",
            "Train Epoch: 8 [30000/60000 (50%)]\tLoss: 0.150362\n",
            "Train Epoch: 8 [32000/60000 (53%)]\tLoss: 0.253411\n",
            "Train Epoch: 8 [34000/60000 (57%)]\tLoss: 0.137183\n"
          ]
        }
      ]
    }
  ]
}